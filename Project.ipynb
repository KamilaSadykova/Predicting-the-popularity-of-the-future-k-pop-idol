{
 "cells": [
  {
   "cell_type": "code",
   "execution_count": 6,
   "metadata": {},
   "outputs": [],
   "source": [
    "#import libraries\n",
    "import pandas as pd"
   ]
  },
  {
   "cell_type": "code",
   "execution_count": 7,
   "metadata": {},
   "outputs": [
    {
     "data": {
      "text/html": [
       "<div>\n",
       "<style scoped>\n",
       "    .dataframe tbody tr th:only-of-type {\n",
       "        vertical-align: middle;\n",
       "    }\n",
       "\n",
       "    .dataframe tbody tr th {\n",
       "        vertical-align: top;\n",
       "    }\n",
       "\n",
       "    .dataframe thead th {\n",
       "        text-align: right;\n",
       "    }\n",
       "</style>\n",
       "<table border=\"1\" class=\"dataframe\">\n",
       "  <thead>\n",
       "    <tr style=\"text-align: right;\">\n",
       "      <th></th>\n",
       "      <th>rank</th>\n",
       "      <th>name</th>\n",
       "      <th>agency</th>\n",
       "      <th>real name</th>\n",
       "      <th>group</th>\n",
       "      <th>age</th>\n",
       "      <th>height</th>\n",
       "      <th>weight</th>\n",
       "      <th>blood type</th>\n",
       "      <th>origin</th>\n",
       "      <th>country</th>\n",
       "      <th>position</th>\n",
       "      <th>industry</th>\n",
       "      <th>gender</th>\n",
       "      <th>curr date</th>\n",
       "      <th>birth date</th>\n",
       "    </tr>\n",
       "  </thead>\n",
       "  <tbody>\n",
       "    <tr>\n",
       "      <th>0</th>\n",
       "      <td>1.0</td>\n",
       "      <td>Jinah</td>\n",
       "      <td>주식회사 씨그널엔터테인먼트그룹</td>\n",
       "      <td>Seo Jin Ah</td>\n",
       "      <td>Berry Chu</td>\n",
       "      <td>37.0</td>\n",
       "      <td>NaN</td>\n",
       "      <td>NaN</td>\n",
       "      <td>NaN</td>\n",
       "      <td>Seoul</td>\n",
       "      <td>South Korea</td>\n",
       "      <td>Leader, Vocalist</td>\n",
       "      <td>K-pop</td>\n",
       "      <td>Female</td>\n",
       "      <td>23.04.2020</td>\n",
       "      <td>29.04.1983</td>\n",
       "    </tr>\n",
       "    <tr>\n",
       "      <th>1</th>\n",
       "      <td>2.0</td>\n",
       "      <td>Hayul</td>\n",
       "      <td>주식회사 씨그널엔터테인먼트그룹</td>\n",
       "      <td>Kim Ha Yul</td>\n",
       "      <td>Berry Chu</td>\n",
       "      <td>33.0</td>\n",
       "      <td>NaN</td>\n",
       "      <td>NaN</td>\n",
       "      <td>NaN</td>\n",
       "      <td>Seoul</td>\n",
       "      <td>South Korea</td>\n",
       "      <td>Vocalist</td>\n",
       "      <td>K-pop</td>\n",
       "      <td>Female</td>\n",
       "      <td>23.04.2020</td>\n",
       "      <td>18.10.1986</td>\n",
       "    </tr>\n",
       "    <tr>\n",
       "      <th>2</th>\n",
       "      <td>3.0</td>\n",
       "      <td>Jieun</td>\n",
       "      <td>주식회사 씨그널엔터테인먼트그룹</td>\n",
       "      <td>Han Ji Eun</td>\n",
       "      <td>Berry Chu</td>\n",
       "      <td>33.0</td>\n",
       "      <td>NaN</td>\n",
       "      <td>NaN</td>\n",
       "      <td>NaN</td>\n",
       "      <td>Seoul</td>\n",
       "      <td>South Korea</td>\n",
       "      <td>Vocalist</td>\n",
       "      <td>K-pop</td>\n",
       "      <td>Female</td>\n",
       "      <td>23.04.2020</td>\n",
       "      <td>12.01.1987</td>\n",
       "    </tr>\n",
       "    <tr>\n",
       "      <th>3</th>\n",
       "      <td>4.0</td>\n",
       "      <td>Yunmi</td>\n",
       "      <td>주식회사 씨그널엔터테인먼트그룹</td>\n",
       "      <td>Heo Yun Mi</td>\n",
       "      <td>Berry Chu</td>\n",
       "      <td>32.0</td>\n",
       "      <td>NaN</td>\n",
       "      <td>NaN</td>\n",
       "      <td>NaN</td>\n",
       "      <td>Incheon</td>\n",
       "      <td>South Korea</td>\n",
       "      <td>Vocalist</td>\n",
       "      <td>K-pop</td>\n",
       "      <td>Female</td>\n",
       "      <td>23.04.2020</td>\n",
       "      <td>23.03.1988</td>\n",
       "    </tr>\n",
       "    <tr>\n",
       "      <th>4</th>\n",
       "      <td>5.0</td>\n",
       "      <td>Haum</td>\n",
       "      <td>주식회사 씨그널엔터테인먼트그룹</td>\n",
       "      <td>Kim Haum</td>\n",
       "      <td>Berry Chu</td>\n",
       "      <td>29.0</td>\n",
       "      <td>NaN</td>\n",
       "      <td>NaN</td>\n",
       "      <td>NaN</td>\n",
       "      <td>Seoul</td>\n",
       "      <td>South Korea</td>\n",
       "      <td>Vocalist, Maknae</td>\n",
       "      <td>K-pop</td>\n",
       "      <td>Female</td>\n",
       "      <td>23.04.2020</td>\n",
       "      <td>20.10.1990</td>\n",
       "    </tr>\n",
       "  </tbody>\n",
       "</table>\n",
       "</div>"
      ],
      "text/plain": [
       "   rank   name            agency   real name      group   age  height  weight  \\\n",
       "0   1.0  Jinah  주식회사 씨그널엔터테인먼트그룹  Seo Jin Ah  Berry Chu  37.0     NaN     NaN   \n",
       "1   2.0  Hayul  주식회사 씨그널엔터테인먼트그룹  Kim Ha Yul  Berry Chu  33.0     NaN     NaN   \n",
       "2   3.0  Jieun  주식회사 씨그널엔터테인먼트그룹  Han Ji Eun  Berry Chu  33.0     NaN     NaN   \n",
       "3   4.0  Yunmi  주식회사 씨그널엔터테인먼트그룹  Heo Yun Mi  Berry Chu  32.0     NaN     NaN   \n",
       "4   5.0   Haum  주식회사 씨그널엔터테인먼트그룹    Kim Haum  Berry Chu  29.0     NaN     NaN   \n",
       "\n",
       "  blood type   origin      country          position industry  gender  \\\n",
       "0        NaN    Seoul  South Korea  Leader, Vocalist    K-pop  Female   \n",
       "1        NaN    Seoul  South Korea          Vocalist    K-pop  Female   \n",
       "2        NaN    Seoul  South Korea          Vocalist    K-pop  Female   \n",
       "3        NaN  Incheon  South Korea          Vocalist    K-pop  Female   \n",
       "4        NaN    Seoul  South Korea  Vocalist, Maknae    K-pop  Female   \n",
       "\n",
       "    curr date  birth date  \n",
       "0  23.04.2020  29.04.1983  \n",
       "1  23.04.2020  18.10.1986  \n",
       "2  23.04.2020  12.01.1987  \n",
       "3  23.04.2020  23.03.1988  \n",
       "4  23.04.2020  20.10.1990  "
      ]
     },
     "execution_count": 7,
     "metadata": {},
     "output_type": "execute_result"
    }
   ],
   "source": [
    "#read dataset\n",
    "data = pd.read_csv(\"kpopdataset.csv\",sep=\"\\t\",delimiter = \";\")\n",
    "data.head()"
   ]
  },
  {
   "cell_type": "code",
   "execution_count": 8,
   "metadata": {},
   "outputs": [
    {
     "data": {
      "text/plain": [
       "(1902, 16)"
      ]
     },
     "execution_count": 8,
     "metadata": {},
     "output_type": "execute_result"
    }
   ],
   "source": [
    "data.shape"
   ]
  },
  {
   "cell_type": "code",
   "execution_count": 9,
   "metadata": {},
   "outputs": [
    {
     "name": "stdout",
     "output_type": "stream",
     "text": [
      "<class 'pandas.core.frame.DataFrame'>\n",
      "RangeIndex: 1902 entries, 0 to 1901\n",
      "Data columns (total 16 columns):\n",
      " #   Column      Non-Null Count  Dtype  \n",
      "---  ------      --------------  -----  \n",
      " 0   rank        1901 non-null   float64\n",
      " 1   name        1901 non-null   object \n",
      " 2   agency      1874 non-null   object \n",
      " 3   real name   1566 non-null   object \n",
      " 4   group       1901 non-null   object \n",
      " 5   age         1725 non-null   float64\n",
      " 6   height      1603 non-null   float64\n",
      " 7   weight      1253 non-null   float64\n",
      " 8   blood type  1349 non-null   object \n",
      " 9   origin      686 non-null    object \n",
      " 10  country     1895 non-null   object \n",
      " 11  position    1836 non-null   object \n",
      " 12  industry    1901 non-null   object \n",
      " 13  gender      1901 non-null   object \n",
      " 14  curr date   1901 non-null   object \n",
      " 15  birth date  1725 non-null   object \n",
      "dtypes: float64(4), object(12)\n",
      "memory usage: 237.9+ KB\n"
     ]
    }
   ],
   "source": [
    "#missing values\n",
    "data.info()"
   ]
  },
  {
   "cell_type": "code",
   "execution_count": 10,
   "metadata": {},
   "outputs": [],
   "source": [
    "data.drop('real name',axis=1,inplace=True)\n",
    "data.drop('origin',axis=1,inplace=True)\n",
    "data.drop('industry',axis=1,inplace=True)\n",
    "data.drop('curr date',axis=1,inplace=True)\n",
    "data.drop('birth date',axis=1,inplace=True)"
   ]
  },
  {
   "cell_type": "code",
   "execution_count": 11,
   "metadata": {},
   "outputs": [
    {
     "name": "stdout",
     "output_type": "stream",
     "text": [
      "<class 'pandas.core.frame.DataFrame'>\n",
      "RangeIndex: 1902 entries, 0 to 1901\n",
      "Data columns (total 11 columns):\n",
      " #   Column      Non-Null Count  Dtype  \n",
      "---  ------      --------------  -----  \n",
      " 0   rank        1901 non-null   float64\n",
      " 1   name        1901 non-null   object \n",
      " 2   agency      1874 non-null   object \n",
      " 3   group       1901 non-null   object \n",
      " 4   age         1725 non-null   float64\n",
      " 5   height      1603 non-null   float64\n",
      " 6   weight      1253 non-null   float64\n",
      " 7   blood type  1349 non-null   object \n",
      " 8   country     1895 non-null   object \n",
      " 9   position    1836 non-null   object \n",
      " 10  gender      1901 non-null   object \n",
      "dtypes: float64(4), object(7)\n",
      "memory usage: 163.6+ KB\n"
     ]
    }
   ],
   "source": [
    "data.info()"
   ]
  },
  {
   "cell_type": "code",
   "execution_count": null,
   "metadata": {},
   "outputs": [],
   "source": []
  }
 ],
 "metadata": {
  "kernelspec": {
   "display_name": "Python 3",
   "language": "python",
   "name": "python3"
  },
  "language_info": {
   "codemirror_mode": {
    "name": "ipython",
    "version": 3
   },
   "file_extension": ".py",
   "mimetype": "text/x-python",
   "name": "python",
   "nbconvert_exporter": "python",
   "pygments_lexer": "ipython3",
   "version": "3.7.6"
  }
 },
 "nbformat": 4,
 "nbformat_minor": 4
}
